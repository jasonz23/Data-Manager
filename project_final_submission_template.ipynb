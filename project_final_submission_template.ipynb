{
 "cells": [
  {
   "cell_type": "markdown",
   "metadata": {},
   "source": [
    "# Project Final Submission Template"
   ]
  },
  {
   "cell_type": "markdown",
   "metadata": {},
   "source": [
    "### Step 1a: Planning \n",
    "#### Identify the information in the file your program will read\n",
    "\n",
    "Double click this cell to edit.\n",
    "\n",
    "Describe (all) the information that is available. Be sure to note any surprising or unusual features. (For example, some information sources have missing data, which may be blank or flagged using values like -99, NaN, or something else.)"
   ]
  },
  {
   "cell_type": "markdown",
   "metadata": {},
   "source": [
    "### Step 1b: Planning \n",
    "#### Brainstorm ideas for what your program will produce\n",
    "#### Select the idea you will build on for subsequent steps\n",
    "\n",
    "Double click this cell to edit.\n",
    "\n",
    "You must brainstorm at least three ideas for graphs or charts that your program could produce and choose the one that you'd like to work on. You can choose between a line chart, histogram, bar chart, scatterplot, or pie chart."
   ]
  },
  {
   "cell_type": "markdown",
   "metadata": {},
   "source": [
    "### Step 1c: Planning \n",
    "#### Write or draw examples of what your program will produce\n",
    "\n",
    "Double click this cell to edit. \n",
    "\n",
    "You must include an image that shows what your chart or plot will look like. You can insert an image using the Insert Image command near the bottom of the Edit menu."
   ]
  },
  {
   "cell_type": "markdown",
   "metadata": {},
   "source": [
    "### Step 2a: Building\n",
    "#### Document which information you will represent in your data definitions\n",
    "#### Design data definitions\n",
    "\n",
    "Double click this cell to edit.\n",
    "\n",
    "Before you design data definitions in the code cell below, you must explicitly document here which information in the file you chose to represent and why that information is crucial to the chart or graph that you'll produce when you complete step 2c."
   ]
  },
  {
   "cell_type": "code",
   "execution_count": null,
   "metadata": {},
   "outputs": [],
   "source": [
    "from cs103 import *\n",
    "from typing import NamedTuple, List\n",
    "import csv\n",
    "\n",
    "##################\n",
    "# Data Definitions\n",
    "\n",
    "Consumed = ...\n",
    "\n",
    "\n",
    "\n",
    "# List[Consumed]\n",
    "# interp. a list of Consumed\n",
    "\n",
    "LOC0 = []\n",
    "\n",
    "@typecheck\n",
    "def fn_for_loc(loc: List[Consumed]) -> ...:\n",
    "    ... # choose which template body to use for List[Consumed]\n"
   ]
  },
  {
   "cell_type": "markdown",
   "metadata": {},
   "source": [
    "### Step 2b and 2c: Building\n",
    "#### Design a function to read the information and store it as data in your program\n",
    "#### Design functions to analyze the data\n",
    "\n",
    "\n",
    "Complete these steps in the code cell below. You will likely want to rename the analyze function so that the function name describes what your analysis function does."
   ]
  },
  {
   "cell_type": "code",
   "execution_count": null,
   "metadata": {},
   "outputs": [],
   "source": [
    "###########\n",
    "# Functions\n",
    "\n",
    "@typecheck\n",
    "def main(filename: str) -> ...:\n",
    "    \"\"\"\n",
    "    Reads the file from given filename, analyzes the data, returns the result \n",
    "    \"\"\"\n",
    "    # Template from HtDAP, based on function composition \n",
    "    return analyze(read(filename)) \n",
    "    \n",
    "    \n",
    "\n",
    "@typecheck\n",
    "def read(filename: str) -> List[Consumed]:\n",
    "    \"\"\"    \n",
    "    reads information from the specified file and returns ...\n",
    "    \"\"\"\n",
    "    #return []  #stub\n",
    "    # Template from HtDAP\n",
    "    # loc contains the result so far\n",
    "    loc = [] # type: List[Consumed]\n",
    "\n",
    "    with open(filename) as csvfile:\n",
    "        \n",
    "        reader = csv.reader(csvfile)\n",
    "        next(reader) # skip header line\n",
    "\n",
    "        for row in reader:\n",
    "            # you may not need to store all the rows, and you may need\n",
    "            # to convert some of the strings to other types\n",
    "            c = Consumed(row[0], ... ,row[n])\n",
    "            loc.append(c)\n",
    "    \n",
    "    return loc\n",
    "\n",
    "@typecheck\n",
    "def analyze(loc: List[Consumed]) -> Produced: \n",
    "    \"\"\" \n",
    "    ... \n",
    "    \"\"\" \n",
    "\n",
    "    return ...\n",
    "\n",
    "\n",
    "start_testing()\n",
    "\n",
    "# Examples and tests for main\n",
    "expect(..., ...)\n",
    "\n",
    "summary()\n",
    "\n",
    "start_testing()\n",
    "\n",
    "# Examples and tests for read\n",
    "expect(..., ...)\n",
    "\n",
    "summary()\n",
    "\n",
    "start_testing()\n",
    "\n",
    "# Examples and tests for analyze \n",
    "expect(..., ...) \n",
    "\n",
    "summary()"
   ]
  },
  {
   "cell_type": "markdown",
   "metadata": {},
   "source": [
    "### Final Graph/Chart\n",
    "\n",
    "Now that everything is working, you **must** call `main` on the intended information source in order to display the final graph/chart:"
   ]
  },
  {
   "cell_type": "code",
   "execution_count": null,
   "metadata": {},
   "outputs": [],
   "source": [
    "main(...)"
   ]
  },
  {
   "cell_type": "code",
   "execution_count": null,
   "metadata": {
    "deletable": false,
    "editable": false
   },
   "outputs": [],
   "source": [
    "# Be sure to select ALL THE FILES YOU NEED (including csv's) \n",
    "# when you submit. As usual, you cannot edit this cell.\n",
    "# Instead, run this cell to start the submission process.\n",
    "from cs103 import submit\n",
    "\n",
    "COURSE = 58946\n",
    "ASSIGNMENT = 750791 # Final submission\n",
    "\n",
    "submit(COURSE, ASSIGNMENT)\n",
    "\n",
    "# If your submission fails, SUBMIT by downloading your files and uploading them \n",
    "# to Canvas. You can learn how on the page \"How to submit your Jupyter notebook\" \n",
    "# on our Canvas site."
   ]
  }
 ],
 "metadata": {
  "kernelspec": {
   "display_name": "Python 3 (ipykernel)",
   "language": "python",
   "name": "python3"
  },
  "language_info": {
   "codemirror_mode": {
    "name": "ipython",
    "version": 3
   },
   "file_extension": ".py",
   "mimetype": "text/x-python",
   "name": "python",
   "nbconvert_exporter": "python",
   "pygments_lexer": "ipython3",
   "version": "3.9.7"
  }
 },
 "nbformat": 4,
 "nbformat_minor": 4
}
