{
 "cells": [
  {
   "cell_type": "markdown",
   "metadata": {},
   "source": [
    "# Project Proposal\n",
    "\n",
    "Your proposal is this notebook (**complete it please!**). **If you are using your own custom information source, you would *also* submit a csv of that file along with this notebook.** \n",
    "\n",
    "You must check-in with a TA before you submit your proposal. You will soon be assigned a TA mentor for the remainder of the project.\n",
    "\n",
    "We also recommend that if you are using your own information source, you discuss it with a TA first to get guidance on whether it is likely to work as an information source.\n",
    "\n",
    "As with your tutorials, use the submission cell at the bottom to submit this notebook."
   ]
  },
  {
   "cell_type": "markdown",
   "metadata": {},
   "source": [
    "## 1. Project Topic Choice\n",
    "\n",
    "My/our intended information source is: **fill in your information source from [CPSC 103's provided sources](https://canvas.ubc.ca/courses/53525/pages/sample-information-sources-and-domains) or write \"my/our own custom information source, described below\"**.\n",
    "\n",
    "*If you used your own custom information source, ensure the csv file is submitted along with this notebook!*"
   ]
  },
  {
   "cell_type": "markdown",
   "metadata": {},
   "source": [
    "<span style=\"color:blue\">My intended source is: U.S. presidential endorsements by newspapers as well as my own custom infomation source  </span> "
   ]
  },
  {
   "cell_type": "markdown",
   "metadata": {},
   "source": [
    "## 2. Question/Topic to Explore\n",
    "\n",
    "Based on your chosen information source above, what question or topic do you want to explore? **Write your anwser in this section.**\n",
    "\n",
    "Your response should make clear what you find interesting in the information source and how you might analyze it. For example: \"I am curious about the relationship among profit, net profit, and operating cost, all three of which are fields (columns) in my information source. In particular, profit minus operating cost would be interesting to compare to net profit.\"\n",
    "\n",
    "*Note: If you chose your own custom information source above*, be sure to **specify a backup option from our set** of prepared information sources in case you can't use your own information source for some reason. \n",
    "\n",
    "\n",
    "##### For example: \n",
    "\"My information source is publicly-available data about the various professional teams and their scores. Please see: *insert the URL (web address) to the data you plan to use for the information source*. As requested, I have also uploaded the file with this submission. My question is: How does team colour choice (which I know from playing this game is a sort of 'marker of tribe') impact performance? As a backup, I'll use the video game sales information source and try to do something similar to my plan below but for which company created a game and how much money it made.\""
   ]
  },
  {
   "cell_type": "markdown",
   "metadata": {},
   "source": [
    "<span style=\"color:blue\">https://en.wikipedia.org/wiki/List_of_United_States_presidential_candidates_by_number_of_votes_received and https://github.com/veltman/endorsements will be my sources. (I tried converting the information into a CSV file but it isn't letting me upload it. I created an excel sheet with the information then converted that into a CSV file. When I upload it, it gives me an error). My question is: How does U.S. presidential endorsement by newspapers affect the number of votes. I am curious about if the newspaper affects the number of votes the president nominates get. As a backup, I'll use the endorsement information and try to do something similar.  Maybe see how newspaper endorsement has changed over the years. Have newspapers become more political over the years?</span>"
   ]
  },
  {
   "cell_type": "markdown",
   "metadata": {},
   "source": [
    "## 3. Planned Graph/Chart\n",
    "\n",
    "Your program must produce a graph or chart that helps to answer your question(s) about your information source.\n",
    "\n",
    "You will learn how to design functions that create graphs or charts in Module 8. You can choose from a line chart, histogram, bar chart, scatterplot, or pie chart.\n",
    "\n",
    "In the context of your question/topic above, **what graph or chart do you intend to produce**? **Write your answer in this section.**\n",
    "\n",
    "For most charts, you should tell us what will be on the y axis and what will be on the x axis. \n",
    "\n",
    "##### For example:\n",
    "Continuing the examples above, \"I plan to make a line graph with dollar amount on the y axis versus year on the x axis with two lines: one for profit minus operating cost and another for net profit.\" or \"I plan to create a bar chart of average points per game on the y axis with one bar for each team colour spread along the x axis.\""
   ]
  },
  {
   "cell_type": "markdown",
   "metadata": {},
   "source": [
    "<span style=\"color:blue\">I plan on making a line graph with two data sets. The y axis will be percentage and the x axis will be years. I will have one data set showing the percentage of newspaper endoresment towards republican over each electon. The next data set will be the percentage of republican votes over each election. I will try and see if there is a correlation between the two data sets.</span>"
   ]
  },
  {
   "cell_type": "markdown",
   "metadata": {},
   "source": [
    "## 4. Substantial Computation\n",
    "\n",
    "In the process of creating your graph/chart, your program must perform some substantial computation that goes beyond selecting only certain rows of the existing information (also known as \"filtering\" the information), reading it as data, and plotting two columns from the resulting filtered data.\n",
    "\n",
    "In the context of your graph/chart above, **what substantial computation do you plan to perform**? **Write your answer in this section.**\n",
    "\n",
    "##### For example:\n",
    "Continuing the examples above, \"I plan to find the difference between net profit and profit for each year of data to compare against the operating costs listed in another column.\" or \"I plan to group rows in my information by their team colour and take the average of each group's points per game.\")"
   ]
  },
  {
   "cell_type": "markdown",
   "metadata": {},
   "source": [
    "<span style=\"color:blue\">My first step is to assign each presidential endorsement as either for democrats or republican or unknown. My next step is to make a function that determines the percentage of newspapers in a given year that supports republicans, democrats, or unknown. This percentage vs time stacked bar graph will be my first data set. My next data set will be the percentage of votes that are republican, democrat, or other. I will make a function that determines the percentage of votes for each party for a given year. I will then graph this as a percentage of republicans per election year line graph. Since America is a two-party system, the percentage of Democrat voters is 100% - the percentage of Republican voters. I want to combine both of these data into one single graph if that is possible. If this is too challenging, I will separate the graphs. a\n",
    "This image isthe idea I am going for: https://github.com/apexcharts/apexcharts.js/issues/26</span>"
   ]
  },
  {
   "cell_type": "code",
   "execution_count": null,
   "metadata": {},
   "outputs": [],
   "source": []
  },
  {
   "cell_type": "code",
   "execution_count": 2,
   "metadata": {
    "deletable": false,
    "editable": false
   },
   "outputs": [
    {
     "data": {
      "application/vnd.jupyter.widget-view+json": {
       "model_id": "7b30c35a50714900ae663c33dc5a50c4",
       "version_major": 2,
       "version_minor": 0
      },
      "text/plain": [
       "Valid(value=True, description='Token')"
      ]
     },
     "metadata": {},
     "output_type": "display_data"
    },
    {
     "data": {
      "application/vnd.jupyter.widget-view+json": {
       "model_id": "744a02238e7148aa853557dfeffb92b0",
       "version_major": 2,
       "version_minor": 0
      },
      "text/plain": [
       "SelectMultiple(description='Files', index=(0,), layout=Layout(height='100%', width='50%'), options=('project_p…"
      ]
     },
     "metadata": {},
     "output_type": "display_data"
    },
    {
     "data": {
      "application/vnd.jupyter.widget-view+json": {
       "model_id": "fe88e7f7634049a7bfc2ed69e4ec0bfc",
       "version_major": 2,
       "version_minor": 0
      },
      "text/plain": [
       "Button(description='submit', icon='check', style=ButtonStyle(), tooltip='submit')"
      ]
     },
     "metadata": {},
     "output_type": "display_data"
    },
    {
     "name": "stdout",
     "output_type": "stream",
     "text": [
      "We are about to submit the files:\n",
      "project_proposal_starter.ipynb, number of votes presidental .csv\n",
      "\n",
      "- We do this by moving only the files you selected to their own space, restarting a kernel,\n",
      "  and running them from top to bottom.\n",
      "- This ensures that the files you submit are exactly what the course staff needs to recreate your output.\n",
      "- We then submit these to Canvas for you and, if successful, give you a link where you can review your submission.\n",
      "- If there is an error, there will be a VERY LONG error message below.\n",
      "  Read our suggestions at the bottom and try to ream the error message bottom up.\n",
      "\n",
      "-----------------------------------------------------------------------------------------------\n",
      "\n",
      "Your assignment was submitted succesfully!\n",
      "Please check your submission at this link: https://canvas.ubc.ca/courses/58946/assignments/750797/submissions/411304?preview=1&version=4\n",
      "It will be easiest to check your submission using the HTML file at that link.\n",
      "\n",
      "WARNING: We can only see saved changes. ANY UNSAVED CHANGES would not have been submitted.\n",
      "Save before each submission!\n",
      "-----------------------------------------------------------------------------------------------\n",
      "\n"
     ]
    }
   ],
   "source": [
    "# NOTE: You should not be able to edit this cell.\n",
    "# Instead, run this cell to start the submission process.\n",
    "from cs103 import submit\n",
    "\n",
    "COURSE = 58946\n",
    "ASSIGNMENT = 750797\n",
    "\n",
    "submit(COURSE, ASSIGNMENT)\n",
    "\n",
    "# If your submission fails, SUBMIT by downloading your files \n",
    "# and uploading them to Canvas. You can learn how on the page \n",
    "# \"How to submit your Jupyter notebook\" on our Canvas site."
   ]
  },
  {
   "cell_type": "code",
   "execution_count": null,
   "metadata": {},
   "outputs": [],
   "source": []
  }
 ],
 "metadata": {
  "kernelspec": {
   "display_name": "Python 3 (ipykernel)",
   "language": "python",
   "name": "python3"
  },
  "language_info": {
   "codemirror_mode": {
    "name": "ipython",
    "version": 3
   },
   "file_extension": ".py",
   "mimetype": "text/x-python",
   "name": "python",
   "nbconvert_exporter": "python",
   "pygments_lexer": "ipython3",
   "version": "3.9.7"
  }
 },
 "nbformat": 4,
 "nbformat_minor": 4
}
